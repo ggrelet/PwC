{
 "cells": [
  {
   "cell_type": "markdown",
   "metadata": {},
   "source": [
    "# Session de Recrutement Printemps 2017 - Team Tax Analytics\n",
    "## Rendu de Guillaume Grelet - guillaume.grelet@telecom-paristech.fr\n",
    "\n",
    "Date : février 2017\n"
   ]
  },
  {
   "cell_type": "markdown",
   "metadata": {},
   "source": [
    "Ce rendu a pour but de fournir une réponse à l'exercice posé par PwC sur la gestion de tableur Excel.  \n",
    "Il utilise les packages suivante : jupyter, pandas, PyQt, ipywidgets  \n",
    "  \n",
    "  \n",
    "Notes :\n",
    "Le code suivant est systématiquement commenté en anglais, comme l'usage le veut.  \n"
   ]
  },
  {
   "cell_type": "code",
   "execution_count": 159,
   "metadata": {
    "collapsed": false
   },
   "outputs": [],
   "source": [
    "# Import the necessary packages..\n",
    "\n",
    "# For the widgets\n",
    "%gui qt \n",
    "from IPython.display import display, Markdown, Latex\n",
    "from PyQt5.QtWidgets import QFileDialog\n",
    "from ipywidgets import *\n",
    "\n",
    "# For the excel file processing...\n",
    "import pandas as pd\n",
    "import numpy as np\n",
    "\n",
    "# For the Jaro-Winkler distance calculation\n",
    "import jellyfish\n",
    "\n",
    "def filesearch(dir=None):\n",
    "    \"\"\"\n",
    "    That function allows the user to select a file via a PyQt5 dialog window and return the file name as a str\n",
    "    \"\"\"\n",
    "    if dir is None: dir =\"~/\" # Default path is ~/\n",
    "    filename = QFileDialog.getOpenFileName(None, \"Select data file...\", \n",
    "            dir, filter=\"SM Files (*.xlsx)\")\n",
    "    return filename[0]"
   ]
  },
  {
   "cell_type": "code",
   "execution_count": 169,
   "metadata": {
    "collapsed": false
   },
   "outputs": [
    {
     "data": {
      "text/markdown": [
       "## Cette fonction constitue la réponse à la question 1 de l'exercice"
      ],
      "text/plain": [
       "<IPython.core.display.Markdown object>"
      ]
     },
     "metadata": {},
     "output_type": "display_data"
    }
   ],
   "source": [
    "datapath = filesearch(\"~/\")\n",
    "display(Markdown(\"## Cette fonction constitue la réponse à la question 1 de l'exercice\"))"
   ]
  },
  {
   "cell_type": "code",
   "execution_count": 165,
   "metadata": {
    "collapsed": false
   },
   "outputs": [
    {
     "name": "stdout",
     "output_type": "stream",
     "text": [
      "Processing file...\n",
      "\n",
      "Processing OK.\n",
      "\n"
     ]
    },
    {
     "data": {
      "text/html": [
       "<div>\n",
       "<table border=\"1\" class=\"dataframe\">\n",
       "  <thead>\n",
       "    <tr style=\"text-align: right;\">\n",
       "      <th></th>\n",
       "      <th>Pays</th>\n",
       "      <th>Marchandises</th>\n",
       "      <th>Industries</th>\n",
       "      <th>Nombre d'employés</th>\n",
       "      <th>CA</th>\n",
       "      <th>Exportations</th>\n",
       "      <th>pib</th>\n",
       "    </tr>\n",
       "  </thead>\n",
       "  <tbody>\n",
       "    <tr>\n",
       "      <th>0</th>\n",
       "      <td>France</td>\n",
       "      <td>Hélicopère</td>\n",
       "      <td>Aero</td>\n",
       "      <td>22000</td>\n",
       "      <td>3 368 000 000</td>\n",
       "      <td>1000</td>\n",
       "      <td>2421</td>\n",
       "    </tr>\n",
       "    <tr>\n",
       "      <th>1</th>\n",
       "      <td>It</td>\n",
       "      <td>Ferrari</td>\n",
       "      <td>Automobile</td>\n",
       "      <td>2800</td>\n",
       "      <td>290000000</td>\n",
       "      <td>600</td>\n",
       "      <td>1815</td>\n",
       "    </tr>\n",
       "    <tr>\n",
       "      <th>2</th>\n",
       "      <td>Allemagne</td>\n",
       "      <td>A320</td>\n",
       "      <td>Aeronautique</td>\n",
       "      <td>20000</td>\n",
       "      <td>6789000000</td>\n",
       "      <td>2000</td>\n",
       "      <td>3357</td>\n",
       "    </tr>\n",
       "    <tr>\n",
       "      <th>3</th>\n",
       "      <td>Bulgarie</td>\n",
       "      <td>Electricité</td>\n",
       "      <td>Energy</td>\n",
       "      <td>35000</td>\n",
       "      <td>23000000</td>\n",
       "      <td>12</td>\n",
       "      <td>48</td>\n",
       "    </tr>\n",
       "    <tr>\n",
       "      <th>4</th>\n",
       "      <td>UK</td>\n",
       "      <td>engines</td>\n",
       "      <td>Auto</td>\n",
       "      <td>20000</td>\n",
       "      <td>7984000000</td>\n",
       "      <td>1400</td>\n",
       "      <td>2849</td>\n",
       "    </tr>\n",
       "    <tr>\n",
       "      <th>5</th>\n",
       "      <td>Sverige</td>\n",
       "      <td>hydrolique</td>\n",
       "      <td>energie</td>\n",
       "      <td>10000</td>\n",
       "      <td>400000000</td>\n",
       "      <td>300</td>\n",
       "      <td>482</td>\n",
       "    </tr>\n",
       "    <tr>\n",
       "      <th>6</th>\n",
       "      <td>Finland</td>\n",
       "      <td>nokia</td>\n",
       "      <td>Telecommunication</td>\n",
       "      <td>5000</td>\n",
       "      <td>30000000</td>\n",
       "      <td>100</td>\n",
       "      <td>229</td>\n",
       "    </tr>\n",
       "    <tr>\n",
       "      <th>7</th>\n",
       "      <td>Norvège</td>\n",
       "      <td>pétrole</td>\n",
       "      <td>energ</td>\n",
       "      <td>3000</td>\n",
       "      <td>900000000</td>\n",
       "      <td>90</td>\n",
       "      <td>389</td>\n",
       "    </tr>\n",
       "    <tr>\n",
       "      <th>8</th>\n",
       "      <td>Danemark</td>\n",
       "      <td>Gaz naturel</td>\n",
       "      <td>energie</td>\n",
       "      <td>4000</td>\n",
       "      <td>24000000</td>\n",
       "      <td>95</td>\n",
       "      <td>294</td>\n",
       "    </tr>\n",
       "    <tr>\n",
       "      <th>9</th>\n",
       "      <td>Spain</td>\n",
       "      <td>mécanique de précison</td>\n",
       "      <td>Auto</td>\n",
       "      <td>10000</td>\n",
       "      <td>23400000</td>\n",
       "      <td>500</td>\n",
       "      <td>1192</td>\n",
       "    </tr>\n",
       "    <tr>\n",
       "      <th>10</th>\n",
       "      <td>Cnada</td>\n",
       "      <td>NaN</td>\n",
       "      <td>Construction</td>\n",
       "      <td>20000</td>\n",
       "      <td>45600000</td>\n",
       "      <td>700</td>\n",
       "      <td>1552</td>\n",
       "    </tr>\n",
       "    <tr>\n",
       "      <th>11</th>\n",
       "      <td>Autriche</td>\n",
       "      <td>NaN</td>\n",
       "      <td>Tourisme</td>\n",
       "      <td>5000</td>\n",
       "      <td>4500000</td>\n",
       "      <td>200</td>\n",
       "      <td>374</td>\n",
       "    </tr>\n",
       "    <tr>\n",
       "      <th>12</th>\n",
       "      <td>Suisse</td>\n",
       "      <td>lacustre et fluvial</td>\n",
       "      <td>Transport</td>\n",
       "      <td>4000</td>\n",
       "      <td>3400000</td>\n",
       "      <td>300</td>\n",
       "      <td>664</td>\n",
       "    </tr>\n",
       "    <tr>\n",
       "      <th>13</th>\n",
       "      <td>Luxmbourg</td>\n",
       "      <td>Banque</td>\n",
       "      <td>Services</td>\n",
       "      <td>6000</td>\n",
       "      <td>324500000000</td>\n",
       "      <td>20</td>\n",
       "      <td>57</td>\n",
       "    </tr>\n",
       "    <tr>\n",
       "      <th>14</th>\n",
       "      <td>Pologne</td>\n",
       "      <td>charbon</td>\n",
       "      <td>ener</td>\n",
       "      <td>7000</td>\n",
       "      <td>45600000</td>\n",
       "      <td>200</td>\n",
       "      <td>474</td>\n",
       "    </tr>\n",
       "    <tr>\n",
       "      <th>15</th>\n",
       "      <td>Tchéquie</td>\n",
       "      <td>charbn</td>\n",
       "      <td>enrgie</td>\n",
       "      <td>4000</td>\n",
       "      <td>45000900</td>\n",
       "      <td>79</td>\n",
       "      <td>181</td>\n",
       "    </tr>\n",
       "    <tr>\n",
       "      <th>16</th>\n",
       "      <td>Lituanie</td>\n",
       "      <td>petrle</td>\n",
       "      <td>energy</td>\n",
       "      <td>3000</td>\n",
       "      <td>56000000</td>\n",
       "      <td>30</td>\n",
       "      <td>41</td>\n",
       "    </tr>\n",
       "    <tr>\n",
       "      <th>17</th>\n",
       "      <td>Estnie</td>\n",
       "      <td>NaN</td>\n",
       "      <td>NaN</td>\n",
       "      <td>NaN</td>\n",
       "      <td>NaN</td>\n",
       "      <td>NaN</td>\n",
       "      <td>22</td>\n",
       "    </tr>\n",
       "    <tr>\n",
       "      <th>18</th>\n",
       "      <td>NaN</td>\n",
       "      <td>NaN</td>\n",
       "      <td>NaN</td>\n",
       "      <td>NaN</td>\n",
       "      <td>NaN</td>\n",
       "      <td>NaN</td>\n",
       "      <td>NaN</td>\n",
       "    </tr>\n",
       "    <tr>\n",
       "      <th>19</th>\n",
       "      <td>NaN</td>\n",
       "      <td>NaN</td>\n",
       "      <td>NaN</td>\n",
       "      <td>NaN</td>\n",
       "      <td>NaN</td>\n",
       "      <td>NaN</td>\n",
       "      <td>NaN</td>\n",
       "    </tr>\n",
       "    <tr>\n",
       "      <th>20</th>\n",
       "      <td>Labels</td>\n",
       "      <td>NaN</td>\n",
       "      <td>NaN</td>\n",
       "      <td>NaN</td>\n",
       "      <td>NaN</td>\n",
       "      <td>NaN</td>\n",
       "      <td>NaN</td>\n",
       "    </tr>\n",
       "    <tr>\n",
       "      <th>21</th>\n",
       "      <td>Pays</td>\n",
       "      <td>Marchanfise</td>\n",
       "      <td>Industrie</td>\n",
       "      <td>Chiffre d'affaire</td>\n",
       "      <td>Nb employés</td>\n",
       "      <td>PIB</td>\n",
       "      <td>Tax</td>\n",
       "    </tr>\n",
       "  </tbody>\n",
       "</table>\n",
       "</div>"
      ],
      "text/plain": [
       "         Pays            Marchandises        Industries   Nombre d'employés   \\\n",
       "0      France             Hélicopère                Aero               22000   \n",
       "1          It                 Ferrari         Automobile                2800   \n",
       "2   Allemagne                    A320       Aeronautique               20000   \n",
       "3    Bulgarie            Electricité              Energy               35000   \n",
       "4          UK                 engines               Auto               20000   \n",
       "5     Sverige              hydrolique            energie               10000   \n",
       "6     Finland                   nokia  Telecommunication                5000   \n",
       "7     Norvège                 pétrole              energ                3000   \n",
       "8    Danemark             Gaz naturel            energie                4000   \n",
       "9       Spain  mécanique de précison                Auto               10000   \n",
       "10      Cnada                     NaN       Construction               20000   \n",
       "11   Autriche                     NaN           Tourisme                5000   \n",
       "12     Suisse     lacustre et fluvial         Transport                 4000   \n",
       "13  Luxmbourg                  Banque           Services                6000   \n",
       "14    Pologne                 charbon               ener                7000   \n",
       "15   Tchéquie                  charbn             enrgie                4000   \n",
       "16   Lituanie                  petrle             energy                3000   \n",
       "17     Estnie                     NaN                NaN                 NaN   \n",
       "18        NaN                     NaN                NaN                 NaN   \n",
       "19        NaN                     NaN                NaN                 NaN   \n",
       "20     Labels                     NaN                NaN                 NaN   \n",
       "21       Pays             Marchanfise          Industrie  Chiffre d'affaire    \n",
       "\n",
       "               CA Exportations   pib  \n",
       "0   3 368 000 000         1000  2421  \n",
       "1       290000000          600  1815  \n",
       "2      6789000000         2000  3357  \n",
       "3        23000000           12    48  \n",
       "4      7984000000         1400  2849  \n",
       "5       400000000          300   482  \n",
       "6        30000000          100   229  \n",
       "7       900000000           90   389  \n",
       "8        24000000           95   294  \n",
       "9        23400000          500  1192  \n",
       "10       45600000          700  1552  \n",
       "11        4500000          200   374  \n",
       "12        3400000          300   664  \n",
       "13   324500000000           20    57  \n",
       "14       45600000          200   474  \n",
       "15       45000900           79   181  \n",
       "16       56000000           30    41  \n",
       "17            NaN          NaN    22  \n",
       "18            NaN          NaN   NaN  \n",
       "19            NaN          NaN   NaN  \n",
       "20            NaN          NaN   NaN  \n",
       "21    Nb employés          PIB   Tax  "
      ]
     },
     "metadata": {},
     "output_type": "display_data"
    },
    {
     "data": {
      "text/markdown": [
       "## Ci-dessus les données brutes"
      ],
      "text/plain": [
       "<IPython.core.display.Markdown object>"
      ]
     },
     "metadata": {},
     "output_type": "display_data"
    }
   ],
   "source": [
    "#%%time\n",
    "print(\"Processing file...\")\n",
    "data = pd.read_excel(datapath) # Data reading\n",
    "print(\"\\nProcessing OK.\\n\")\n",
    "display(data, Markdown(\"## Ci-dessus les données brutes\"))"
   ]
  },
  {
   "cell_type": "code",
   "execution_count": 166,
   "metadata": {
    "collapsed": false
   },
   "outputs": [
    {
     "data": {
      "text/html": [
       "<div>\n",
       "<table border=\"1\" class=\"dataframe\">\n",
       "  <thead>\n",
       "    <tr style=\"text-align: right;\">\n",
       "      <th></th>\n",
       "      <th>Pays</th>\n",
       "      <th>Marchandises</th>\n",
       "      <th>Industries</th>\n",
       "      <th>Nombre d'employés</th>\n",
       "      <th>CA</th>\n",
       "      <th>Exportations</th>\n",
       "      <th>pib</th>\n",
       "    </tr>\n",
       "  </thead>\n",
       "  <tbody>\n",
       "    <tr>\n",
       "      <th>0</th>\n",
       "      <td>France</td>\n",
       "      <td>Hélicopère</td>\n",
       "      <td>Aero</td>\n",
       "      <td>22000</td>\n",
       "      <td>3 368 000 000</td>\n",
       "      <td>1000</td>\n",
       "      <td>2421</td>\n",
       "    </tr>\n",
       "    <tr>\n",
       "      <th>1</th>\n",
       "      <td>It</td>\n",
       "      <td>Ferrari</td>\n",
       "      <td>Automobile</td>\n",
       "      <td>2800</td>\n",
       "      <td>290000000</td>\n",
       "      <td>600</td>\n",
       "      <td>1815</td>\n",
       "    </tr>\n",
       "    <tr>\n",
       "      <th>2</th>\n",
       "      <td>Allemagne</td>\n",
       "      <td>A320</td>\n",
       "      <td>Aeronautique</td>\n",
       "      <td>20000</td>\n",
       "      <td>6789000000</td>\n",
       "      <td>2000</td>\n",
       "      <td>3357</td>\n",
       "    </tr>\n",
       "    <tr>\n",
       "      <th>3</th>\n",
       "      <td>Bulgarie</td>\n",
       "      <td>Electricité</td>\n",
       "      <td>Energy</td>\n",
       "      <td>35000</td>\n",
       "      <td>23000000</td>\n",
       "      <td>12</td>\n",
       "      <td>48</td>\n",
       "    </tr>\n",
       "    <tr>\n",
       "      <th>4</th>\n",
       "      <td>UK</td>\n",
       "      <td>engines</td>\n",
       "      <td>Auto</td>\n",
       "      <td>20000</td>\n",
       "      <td>7984000000</td>\n",
       "      <td>1400</td>\n",
       "      <td>2849</td>\n",
       "    </tr>\n",
       "    <tr>\n",
       "      <th>5</th>\n",
       "      <td>Sverige</td>\n",
       "      <td>hydrolique</td>\n",
       "      <td>energie</td>\n",
       "      <td>10000</td>\n",
       "      <td>400000000</td>\n",
       "      <td>300</td>\n",
       "      <td>482</td>\n",
       "    </tr>\n",
       "    <tr>\n",
       "      <th>6</th>\n",
       "      <td>Finland</td>\n",
       "      <td>nokia</td>\n",
       "      <td>Telecommunication</td>\n",
       "      <td>5000</td>\n",
       "      <td>30000000</td>\n",
       "      <td>100</td>\n",
       "      <td>229</td>\n",
       "    </tr>\n",
       "    <tr>\n",
       "      <th>7</th>\n",
       "      <td>Norvège</td>\n",
       "      <td>pétrole</td>\n",
       "      <td>energ</td>\n",
       "      <td>3000</td>\n",
       "      <td>900000000</td>\n",
       "      <td>90</td>\n",
       "      <td>389</td>\n",
       "    </tr>\n",
       "    <tr>\n",
       "      <th>8</th>\n",
       "      <td>Danemark</td>\n",
       "      <td>Gaz naturel</td>\n",
       "      <td>energie</td>\n",
       "      <td>4000</td>\n",
       "      <td>24000000</td>\n",
       "      <td>95</td>\n",
       "      <td>294</td>\n",
       "    </tr>\n",
       "    <tr>\n",
       "      <th>9</th>\n",
       "      <td>Spain</td>\n",
       "      <td>mécanique de précison</td>\n",
       "      <td>Auto</td>\n",
       "      <td>10000</td>\n",
       "      <td>23400000</td>\n",
       "      <td>500</td>\n",
       "      <td>1192</td>\n",
       "    </tr>\n",
       "    <tr>\n",
       "      <th>10</th>\n",
       "      <td>Cnada</td>\n",
       "      <td>NaN</td>\n",
       "      <td>Construction</td>\n",
       "      <td>20000</td>\n",
       "      <td>45600000</td>\n",
       "      <td>700</td>\n",
       "      <td>1552</td>\n",
       "    </tr>\n",
       "    <tr>\n",
       "      <th>11</th>\n",
       "      <td>Autriche</td>\n",
       "      <td>NaN</td>\n",
       "      <td>Tourisme</td>\n",
       "      <td>5000</td>\n",
       "      <td>4500000</td>\n",
       "      <td>200</td>\n",
       "      <td>374</td>\n",
       "    </tr>\n",
       "    <tr>\n",
       "      <th>12</th>\n",
       "      <td>Suisse</td>\n",
       "      <td>lacustre et fluvial</td>\n",
       "      <td>Transport</td>\n",
       "      <td>4000</td>\n",
       "      <td>3400000</td>\n",
       "      <td>300</td>\n",
       "      <td>664</td>\n",
       "    </tr>\n",
       "    <tr>\n",
       "      <th>13</th>\n",
       "      <td>Luxmbourg</td>\n",
       "      <td>Banque</td>\n",
       "      <td>Services</td>\n",
       "      <td>6000</td>\n",
       "      <td>324500000000</td>\n",
       "      <td>20</td>\n",
       "      <td>57</td>\n",
       "    </tr>\n",
       "    <tr>\n",
       "      <th>14</th>\n",
       "      <td>Pologne</td>\n",
       "      <td>charbon</td>\n",
       "      <td>ener</td>\n",
       "      <td>7000</td>\n",
       "      <td>45600000</td>\n",
       "      <td>200</td>\n",
       "      <td>474</td>\n",
       "    </tr>\n",
       "    <tr>\n",
       "      <th>15</th>\n",
       "      <td>Tchéquie</td>\n",
       "      <td>charbn</td>\n",
       "      <td>enrgie</td>\n",
       "      <td>4000</td>\n",
       "      <td>45000900</td>\n",
       "      <td>79</td>\n",
       "      <td>181</td>\n",
       "    </tr>\n",
       "    <tr>\n",
       "      <th>16</th>\n",
       "      <td>Lituanie</td>\n",
       "      <td>petrle</td>\n",
       "      <td>energy</td>\n",
       "      <td>3000</td>\n",
       "      <td>56000000</td>\n",
       "      <td>30</td>\n",
       "      <td>41</td>\n",
       "    </tr>\n",
       "    <tr>\n",
       "      <th>17</th>\n",
       "      <td>Estnie</td>\n",
       "      <td>NaN</td>\n",
       "      <td>NaN</td>\n",
       "      <td>NaN</td>\n",
       "      <td>NaN</td>\n",
       "      <td>NaN</td>\n",
       "      <td>22</td>\n",
       "    </tr>\n",
       "  </tbody>\n",
       "</table>\n",
       "</div>"
      ],
      "text/plain": [
       "         Pays            Marchandises        Industries  Nombre d'employés   \\\n",
       "0      France             Hélicopère                Aero              22000   \n",
       "1          It                 Ferrari         Automobile               2800   \n",
       "2   Allemagne                    A320       Aeronautique              20000   \n",
       "3    Bulgarie            Electricité              Energy              35000   \n",
       "4          UK                 engines               Auto              20000   \n",
       "5     Sverige              hydrolique            energie              10000   \n",
       "6     Finland                   nokia  Telecommunication               5000   \n",
       "7     Norvège                 pétrole              energ               3000   \n",
       "8    Danemark             Gaz naturel            energie               4000   \n",
       "9       Spain  mécanique de précison                Auto              10000   \n",
       "10      Cnada                     NaN       Construction              20000   \n",
       "11   Autriche                     NaN           Tourisme               5000   \n",
       "12     Suisse     lacustre et fluvial         Transport                4000   \n",
       "13  Luxmbourg                  Banque           Services               6000   \n",
       "14    Pologne                 charbon               ener               7000   \n",
       "15   Tchéquie                  charbn             enrgie               4000   \n",
       "16   Lituanie                  petrle             energy               3000   \n",
       "17     Estnie                     NaN                NaN                NaN   \n",
       "\n",
       "               CA Exportations   pib  \n",
       "0   3 368 000 000         1000  2421  \n",
       "1       290000000          600  1815  \n",
       "2      6789000000         2000  3357  \n",
       "3        23000000           12    48  \n",
       "4      7984000000         1400  2849  \n",
       "5       400000000          300   482  \n",
       "6        30000000          100   229  \n",
       "7       900000000           90   389  \n",
       "8        24000000           95   294  \n",
       "9        23400000          500  1192  \n",
       "10       45600000          700  1552  \n",
       "11        4500000          200   374  \n",
       "12        3400000          300   664  \n",
       "13   324500000000           20    57  \n",
       "14       45600000          200   474  \n",
       "15       45000900           79   181  \n",
       "16       56000000           30    41  \n",
       "17            NaN          NaN    22  "
      ]
     },
     "metadata": {},
     "output_type": "display_data"
    },
    {
     "data": {
      "text/markdown": [
       "## Le jeu de donnée ci dessus correspond au plus grand rectangle de données cohérentes, cela répond à la question 2"
      ],
      "text/plain": [
       "<IPython.core.display.Markdown object>"
      ]
     },
     "metadata": {},
     "output_type": "display_data"
    }
   ],
   "source": [
    "zero = []\n",
    "\n",
    "# Find NaN lines\n",
    "for k in range(0, len(data.index)):\n",
    "    zero = zero + [all(data.ix[k].isnull())]\n",
    "zero = pd.Series(zero)\n",
    "\n",
    "# Make partition of faile depending on the NaN lines\n",
    "partitions = (zero != zero.shift()).cumsum()\n",
    "split = data[np.invert(zero)].groupby(partitions)\n",
    "keys = split.groups.keys()\n",
    "\n",
    "# Find the biggest piece of file\n",
    "x = []\n",
    "for key in keys:\n",
    "    x = x + [len(split.get_group(key).index)]\n",
    "x\n",
    "data2 = data\n",
    "data = split.get_group(np.argmax(x) + 1)\n",
    "data\n",
    "display(data, Markdown(\"## Le jeu de donnée ci dessus correspond au plus grand rectangle de données cohérentes, cela répond à la question 2\"))"
   ]
  },
  {
   "cell_type": "code",
   "execution_count": 170,
   "metadata": {
    "collapsed": false
   },
   "outputs": [
    {
     "data": {
      "text/markdown": [
       "## Remplissez ci-dessus la liste des labels standards préprogrammés. Cette fonction répond à la question 3"
      ],
      "text/plain": [
       "<IPython.core.display.Markdown object>"
      ]
     },
     "metadata": {},
     "output_type": "display_data"
    }
   ],
   "source": [
    "# Texterea widget\n",
    "input_label_widget = widgets.Textarea(\n",
    "    placeholder='Place here the preprocessed labels',\n",
    "    value='Pays\\nMarchandises',\n",
    "    disabled=False\n",
    ")\n",
    "\n",
    "# Button widget\n",
    "button1 = widgets.Button(\n",
    "    description='Save',\n",
    "    disabled=False,\n",
    "    button_style='info', # 'success', 'info', 'warning', 'danger' or ''\n",
    "    tooltip='Click me',\n",
    "    icon='check'\n",
    ")\n",
    "\n",
    "\n",
    "display(Markdown(\"## Remplissez ci-dessus la liste des labels standards préprogrammés. Cette fonction répond à la question 3\"), input_label_widget, button1)\n",
    "input_label_list = []\n",
    "def handle_submit(sender):\n",
    "    global x\n",
    "    x = input_label_widget.value\n",
    "    global input_label_list\n",
    "    input_label_list = x.split()\n",
    "    print(\"input_label_list = \")\n",
    "    print(input_label_list)\n",
    "    print(\"Fichier sauvé\")\n",
    "    return None\n",
    "\n",
    "def when_button_clicked(button1):\n",
    "    out = handle_submit(input_label_widget)\n",
    "    return None \n",
    "\n",
    "button1.on_click(when_button_clicked)"
   ]
  },
  {
   "cell_type": "code",
   "execution_count": 131,
   "metadata": {
    "collapsed": false
   },
   "outputs": [
    {
     "name": "stdout",
     "output_type": "stream",
     "text": [
      "    Pays\n",
      "    Marchandises\n",
      "    Industries \n",
      "    Nombre d'employés \n",
      "    CA\n",
      "    Exportations\n",
      "    pib\n"
     ]
    },
    {
     "data": {
      "text/markdown": [
       "## Nous avons trouvé les labels ci-dessus"
      ],
      "text/plain": [
       "<IPython.core.display.Markdown object>"
      ]
     },
     "metadata": {},
     "output_type": "display_data"
    }
   ],
   "source": [
    "found_labels = list(data)\n",
    "for str in found_labels:\n",
    "    print(\"    \" + str)\n",
    "display(Markdown(\"## Nous avons trouvé les labels ci-dessus\"))"
   ]
  },
  {
   "cell_type": "code",
   "execution_count": 133,
   "metadata": {
    "collapsed": false
   },
   "outputs": [
    {
     "data": {
      "text/markdown": [
       "## Les labels ci-dessus sont issus du fichier Excel et existent dans la liste préprogrammée"
      ],
      "text/plain": [
       "<IPython.core.display.Markdown object>"
      ]
     },
     "metadata": {},
     "output_type": "display_data"
    }
   ],
   "source": [
    "intersection = list(set(found_labels).intersection(input_label_list))\n",
    "#print(intersection)\n",
    "\n",
    "existing_label_widget = widgets.Textarea(\n",
    "    value=\"\\n\".join(intersection) + \"\\n\",\n",
    "    placeholder='Type something',\n",
    "    disabled=True\n",
    ")\n",
    "\n",
    "display(Markdown(\"## Les labels ci-dessus sont issus du fichier Excel et existent dans la liste préprogrammée\"), existing_label_widget)"
   ]
  },
  {
   "cell_type": "code",
   "execution_count": 147,
   "metadata": {
    "collapsed": false
   },
   "outputs": [
    {
     "data": {
      "text/markdown": [
       "## Les labels ci-dessus ne sont pas dans la liste standardisée et sont donc nouveaux. Vous pouvez modifier la liste et les ajouter"
      ],
      "text/plain": [
       "<IPython.core.display.Markdown object>"
      ]
     },
     "metadata": {},
     "output_type": "display_data"
    },
    {
     "name": "stdout",
     "output_type": "stream",
     "text": [
      "modified_list = \n",
      "['Industries ', \"Nombre d'employés \", 'CA', 'Exportations', 'pib']\n"
     ]
    }
   ],
   "source": [
    "new_labels = []\n",
    "for str in found_labels:\n",
    "    if str not in intersection:\n",
    "        new_labels.append(str)\n",
    "                \n",
    "preprocessed_label_widget = widgets.Textarea(\n",
    "    value=\"\\n\".join(new_labels) + \"\\n\",\n",
    "    placeholder='Type something',\n",
    "    disabled=False\n",
    ")\n",
    "\n",
    "button2 = widgets.Button(\n",
    "    description='Ok',\n",
    "    disabled=False,\n",
    "    button_style='info', # 'success', 'info', 'warning', 'danger' or ''\n",
    "    tooltip='Click me',\n",
    "    icon='check'\n",
    ")\n",
    "\n",
    "display(Markdown(\"## Les labels ci-dessus ne sont pas dans la liste standardisée et sont donc nouveaux. Vous pouvez modifier la liste et les ajouter\"), preprocessed_label_widget, button2)\n",
    "\n",
    "def handle_submit(sender):\n",
    "    global y\n",
    "    y = preprocessed_label_widget.value\n",
    "    global modified_list\n",
    "    modified_list = y.splitlines()\n",
    "    print(\"modified_list = \")\n",
    "    print(modified_list)\n",
    "    return None\n",
    "\n",
    "def when_button_clicked(button):\n",
    "    out = handle_submit(preprocessed_label_widget)\n",
    "    return None \n",
    "\n",
    "button2.on_click(when_button_clicked)"
   ]
  },
  {
   "cell_type": "code",
   "execution_count": 154,
   "metadata": {
    "collapsed": false
   },
   "outputs": [],
   "source": [
    "mat_size = (len(modified_list) + len(input_label_list)), (len(found_labels))\n",
    "mat0 = np.array([modified_list + input_label_list])\n",
    "\n",
    "mat1 = np.array([[None] +  modified_list + input_label_list])\n",
    "mat2 = np.array([found_labels]).T\n",
    "mat3 = np.zeros(mat_size)\n",
    "a, b = 0, 0\n",
    "for str1 in modified_list + input_label_list:\n",
    "    for str2 in found_labels:\n",
    "        mat3[a, b] = round(jellyfish.jaro_winkler(str1, str2), 3)\n",
    "        a = a + 1\n",
    "    a = 0\n",
    "    b = b + 1\n",
    "mat4 = np.concatenate((mat2, mat3), axis = 1)\n",
    "mat5 = np.concatenate((mat1, mat4), axis = 0)"
   ]
  },
  {
   "cell_type": "code",
   "execution_count": 150,
   "metadata": {
    "collapsed": false
   },
   "outputs": [
    {
     "name": "stdout",
     "output_type": "stream",
     "text": [
      "[[None 'Industries ' \"Nombre d'employés \" 'CA' 'Exportations' 'pib' 'Pays'\n",
      "  'Marchandises']\n",
      " ['Pays' '0.447' '0.0' '0.0' '0.444' '0.0' '1.0' '0.444']\n",
      " ['Marchandises' '0.645' '0.435' '0.0' '0.478' '0.0' '0.444' '1.0']\n",
      " ['Industries ' '1.0' '0.444' '0.0' '0.482' '0.0' '0.447' '0.645']\n",
      " [\"Nombre d'employés \" '0.444' '1.0' '0.0' '0.519' '0.463' '0.0' '0.435']\n",
      " ['CA' '0.0' '0.0' '1.0' '0.0' '0.0' '0.0' '0.0']\n",
      " ['Exportations' '0.482' '0.519' '0.0' '1.0' '0.472' '0.444' '0.478']\n",
      " ['pib' '0.0' '0.463' '0.0' '0.472' '1.0' '0.0' '0.0']]\n"
     ]
    }
   ],
   "source": [
    "print(mat5)"
   ]
  },
  {
   "cell_type": "code",
   "execution_count": 294,
   "metadata": {
    "collapsed": false
   },
   "outputs": [
    {
     "name": "stdout",
     "output_type": "stream",
     "text": [
      "Recherche de labels similaires\n",
      "    ------>  axe ressemble à axer\n",
      "    ------>  sous_axe ressemble à sous_axe\n",
      "    ------>  code_hospidiag ressemble à codes_hospidiag\n",
      "Labels similaires remplacés\n"
     ]
    }
   ],
   "source": [
    "treshold = 0.8\n",
    "k = 0\n",
    "a = np.where(mat3>treshold)\n",
    "matched_labels = found_labels\n",
    "print(\"Recherche de labels similaires\")\n",
    "while k < np.maximum(len(a[0]),len(a[1])):\n",
    "    print(\"    ------>  \" + mat2[a[0][k], 0] + \" ressemble à \" + mat0[0,a[1][k]])\n",
    "    for x in matched_labels:\n",
    "        if x == mat2[a[0][k], 0]:\n",
    "            matched_labels[matched_labels.index(mat2[a[0][k], 0])] = mat0[0,a[1][k]]\n",
    "    k = k + 1\n",
    "print(\"Labels similaires remplacés\")\n",
    "\n"
   ]
  },
  {
   "cell_type": "markdown",
   "metadata": {},
   "source": []
  },
  {
   "cell_type": "code",
   "execution_count": 151,
   "metadata": {
    "collapsed": false
   },
   "outputs": [
    {
     "data": {
      "text/markdown": [
       "## Vous pouvez modifier la liste et les ajouter pour lier"
      ],
      "text/plain": [
       "<IPython.core.display.Markdown object>"
      ]
     },
     "metadata": {},
     "output_type": "display_data"
    },
    {
     "data": {
      "text/markdown": [
       "## Vous pouvez le faire autant de fois que vous voulez"
      ],
      "text/plain": [
       "<IPython.core.display.Markdown object>"
      ]
     },
     "metadata": {},
     "output_type": "display_data"
    }
   ],
   "source": [
    "dico = {}\n",
    "\n",
    "linker_label_widget = widgets.Text(\n",
    "    value='Autos',\n",
    "    placeholder='Type something',\n",
    "    disabled=False\n",
    ")\n",
    "\n",
    "linked_label_widget = widgets.Textarea(\n",
    "    value=\"Automobiles\\nVoiture\\nCar\",\n",
    "    placeholder='Type something',\n",
    "    disabled=False\n",
    ")\n",
    "\n",
    "button3 = widgets.Button(\n",
    "    description='Save',\n",
    "    disabled=False,\n",
    "    button_style='info', # 'success', 'info', 'warning', 'danger' or ''\n",
    "    tooltip='Click me',\n",
    "    icon='check'\n",
    ")\n",
    "\n",
    "display(Markdown(\"## Vous pouvez modifier la liste et les ajouter pour lier\"), Markdown(\"## Vous pouvez le faire autant de fois que vous voulez\"), linker_label_widget, linked_label_widget, button2)\n",
    "\n",
    "def handle_submit(sender):\n",
    "    global linker\n",
    "    linker = linker_label_widget.value\n",
    "    global links\n",
    "    links = linked_label_widget.value.split()\n",
    "    global dico\n",
    "    di = {linker: links}\n",
    "    dico.update(di)\n",
    "    print(dico)\n",
    "    return None\n",
    "\n",
    "def when_button_clicked(button):\n",
    "    out = handle_submit(linked_label_widget)\n",
    "    return None \n",
    "\n"
   ]
  },
  {
   "cell_type": "code",
   "execution_count": 302,
   "metadata": {
    "collapsed": false
   },
   "outputs": [],
   "source": []
  },
  {
   "cell_type": "code",
   "execution_count": null,
   "metadata": {
    "collapsed": true
   },
   "outputs": [],
   "source": []
  }
 ],
 "metadata": {
  "anaconda-cloud": {},
  "kernelspec": {
   "display_name": "Python [default]",
   "language": "python",
   "name": "python3"
  },
  "language_info": {
   "codemirror_mode": {
    "name": "ipython",
    "version": 3
   },
   "file_extension": ".py",
   "mimetype": "text/x-python",
   "name": "python",
   "nbconvert_exporter": "python",
   "pygments_lexer": "ipython3",
   "version": "3.5.2"
  },
  "widgets": {
   "state": {
    "1ffa93df66a042f1ae0550aec889307f": {
     "views": [
      {
       "cell_index": 6
      }
     ]
    },
    "2a40a8e18edf46558cc76110af380965": {
     "views": [
      {
       "cell_index": 9
      }
     ]
    },
    "3f9eefff0d5145c3b4111e72c5306d37": {
     "views": [
      {
       "cell_index": 6
      }
     ]
    },
    "46793c91c06f4941bbfe6b97457b9b55": {
     "views": [
      {
       "cell_index": 8
      }
     ]
    },
    "64765c39f7fb410686ec8a70c01c0cf3": {
     "views": [
      {
       "cell_index": 6
      }
     ]
    },
    "7a9251c45b0841c5b145eb53e6595cb6": {
     "views": [
      {
       "cell_index": 9
      },
      {
       "cell_index": 14
      }
     ]
    },
    "88065ff3fd434bf2bb3cdadb7e76c8c3": {
     "views": [
      {
       "cell_index": 9
      }
     ]
    },
    "9b16e660c4f84b72bfc718b3b6ba3500": {
     "views": [
      {
       "cell_index": 14
      }
     ]
    },
    "9bad722c9fa445a3842fc5415dc11f8f": {
     "views": [
      {
       "cell_index": 6
      }
     ]
    },
    "cbd3d137af5748aca0f04b3716e0c762": {
     "views": [
      {
       "cell_index": 14
      }
     ]
    },
    "f62fbebdee8e44c9b535363404491b98": {
     "views": [
      {
       "cell_index": 6
      }
     ]
    }
   },
   "version": "1.2.0"
  }
 },
 "nbformat": 4,
 "nbformat_minor": 1
}
