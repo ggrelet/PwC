{
 "cells": [
  {
   "cell_type": "markdown",
   "metadata": {},
   "source": [
    "# Session de Recrutement Printemps 2017 - Team Tax Analytics\n",
    "## Rendu de Guillaume Grelet - guillaume.grelet@telecom-paristech.fr\n",
    "\n",
    "Date : février 2017\n"
   ]
  },
  {
   "cell_type": "markdown",
   "metadata": {},
   "source": [
    "Ce rendu a pour but de fournir une réponse à l'exercice posé par PwC sur la gestion de tableur Excel.  \n",
    "Il utilise les packages suivante : jupyter, pandas, PyQt, ipywidgets  \n",
    "  \n",
    "  \n",
    "Notes :\n",
    "Le code suivant est systématiquement commenté en anglais, comme l'usage le veut.  \n"
   ]
  },
  {
   "cell_type": "code",
   "execution_count": 200,
   "metadata": {
    "collapsed": false
   },
   "outputs": [],
   "source": [
    "# Import the necessary packages..\n",
    "\n",
    "# For the widgets\n",
    "%gui qt \n",
    "from IPython.display import display, Markdown, Latex\n",
    "from PyQt5.QtWidgets import QFileDialog\n",
    "from ipywidgets import *\n",
    "\n",
    "# For the excel file processing...\n",
    "import pandas as pd\n",
    "import numpy as np\n",
    "import math\n",
    "\n",
    "import jellyfish"
   ]
  },
  {
   "cell_type": "code",
   "execution_count": 19,
   "metadata": {
    "collapsed": true
   },
   "outputs": [],
   "source": [
    "def filesearch(dir=None):\n",
    "    \"\"\"\n",
    "    That function allows the user to select a file via a PyQt5 dialog window and return the file name as a str\n",
    "    \"\"\"\n",
    "    if dir is None: dir =\"~/\" # Default path is ~/\n",
    "    filename = QFileDialog.getOpenFileName(None)\n",
    "    return filename[0]"
   ]
  },
  {
   "cell_type": "code",
   "execution_count": 20,
   "metadata": {
    "collapsed": true
   },
   "outputs": [],
   "source": [
    "datapath = filesearch(\"~/\")"
   ]
  },
  {
   "cell_type": "code",
   "execution_count": 21,
   "metadata": {
    "collapsed": false
   },
   "outputs": [
    {
     "name": "stdout",
     "output_type": "stream",
     "text": [
      "Processing file...\n",
      "\n",
      "Processing OK. Stats about processing:\n",
      "\n",
      "CPU times: user 6.76 s, sys: 148 ms, total: 6.91 s\n",
      "Wall time: 6.97 s\n"
     ]
    }
   ],
   "source": [
    "%%time\n",
    "print(\"Processing file...\")\n",
    "data = pd.read_excel(datapath)\n",
    "print(\"\\nProcessing OK. Stats about processing:\\n\")"
   ]
  },
  {
   "cell_type": "code",
   "execution_count": 22,
   "metadata": {
    "collapsed": false
   },
   "outputs": [
    {
     "data": {
      "text/markdown": [
       "## Remplissez ci-dessus la liste des labels standards préprogrammés  "
      ],
      "text/plain": [
       "<IPython.core.display.Markdown object>"
      ]
     },
     "metadata": {},
     "output_type": "display_data"
    },
    {
     "name": "stdout",
     "output_type": "stream",
     "text": [
      "input_label_list = \n",
      "['code_hospidiag', 'sous_axe']\n"
     ]
    }
   ],
   "source": [
    "input_label_widget = widgets.Textarea(\n",
    "    placeholder='Place here the preprocessed labels',\n",
    "    value='code_hospidiag\\nsous_axe',\n",
    "    disabled=False\n",
    ")\n",
    "\n",
    "button1 = widgets.Button(\n",
    "    description='Save',\n",
    "    disabled=False,\n",
    "    button_style='info', # 'success', 'info', 'warning', 'danger' or ''\n",
    "    tooltip='Click me',\n",
    "    icon='check'\n",
    ")\n",
    "\n",
    "\n",
    "display(Markdown(\"## Remplissez ci-dessus la liste des labels standards préprogrammés  \"), input_label_widget, button1)\n",
    "\n",
    "def handle_submit(sender):\n",
    "    global x\n",
    "    x = input_label_widget.value\n",
    "    global input_label_list\n",
    "    input_label_list = x.split()\n",
    "    print(\"input_label_list = \")\n",
    "    print(input_label_list)\n",
    "    return None\n",
    "\n",
    "def when_button_clicked(button1):\n",
    "    out = handle_submit(input_label_widget)\n",
    "    return None \n",
    "\n",
    "button1.on_click(when_button_clicked)"
   ]
  },
  {
   "cell_type": "code",
   "execution_count": 23,
   "metadata": {
    "collapsed": false
   },
   "outputs": [
    {
     "name": "stdout",
     "output_type": "stream",
     "text": [
      "Found labels are the following:\n",
      "    axe\n",
      "    sous_axe\n",
      "    indic\n",
      "    code_hospidiag\n",
      "    libelle\n"
     ]
    }
   ],
   "source": [
    "found_labels = list(data)\n",
    "print(\"Found labels are the following:\")\n",
    "for str in found_labels:\n",
    "    print(\"    \" + str)"
   ]
  },
  {
   "cell_type": "code",
   "execution_count": 24,
   "metadata": {
    "collapsed": false
   },
   "outputs": [
    {
     "data": {
      "text/markdown": [
       "## Les labels ci-dessus sont issus du fichier Excel et existent dans la liste prépprogrammée"
      ],
      "text/plain": [
       "<IPython.core.display.Markdown object>"
      ]
     },
     "metadata": {},
     "output_type": "display_data"
    }
   ],
   "source": [
    "intersection = list(set(found_labels).intersection(input_label_list))\n",
    "#print(intersection)\n",
    "\n",
    "existing_label_widget = widgets.Textarea(\n",
    "    value=\"\\n\".join(intersection) + \"\\n\",\n",
    "    placeholder='Type something',\n",
    "    disabled=True\n",
    ")\n",
    "\n",
    "display(Markdown(\"## Les labels ci-dessus sont issus du fichier Excel et existent dans la liste prépprogrammée\"), existing_label_widget)"
   ]
  },
  {
   "cell_type": "markdown",
   "metadata": {},
   "source": [
    "  "
   ]
  },
  {
   "cell_type": "code",
   "execution_count": 25,
   "metadata": {
    "collapsed": false
   },
   "outputs": [
    {
     "data": {
      "text/markdown": [
       "## Les labels ci-dessus ne sont pas dans la liste standardisée et sont donc nouveaux. Vous pouvez modifier la liste et les ajouter"
      ],
      "text/plain": [
       "<IPython.core.display.Markdown object>"
      ]
     },
     "metadata": {},
     "output_type": "display_data"
    },
    {
     "name": "stdout",
     "output_type": "stream",
     "text": [
      "modified_list = \n",
      "['axe', 'indic', 'libelle']\n",
      "modified_list = \n",
      "['axer', 'indicquer', 'libbele']\n"
     ]
    }
   ],
   "source": [
    "new_labels = []\n",
    "for str in found_labels:\n",
    "    if str not in intersection:\n",
    "        new_labels.append(str)\n",
    "                \n",
    "t = widgets.Textarea(\n",
    "    value=\"\\n\".join(new_labels) + \"\\n\",\n",
    "    placeholder='Type something',\n",
    "    disabled=False\n",
    ")\n",
    "\n",
    "b = widgets.Button(\n",
    "    description='Ok',\n",
    "    disabled=False,\n",
    "    button_style='info', # 'success', 'info', 'warning', 'danger' or ''\n",
    "    tooltip='Click me',\n",
    "    icon='check'\n",
    ")\n",
    "\n",
    "display(Markdown(\"## Les labels ci-dessus ne sont pas dans la liste standardisée et sont donc nouveaux. Vous pouvez modifier la liste et les ajouter\"), t, b)\n",
    "\n",
    "def handle_submit(sender):\n",
    "    global y\n",
    "    y = t.value\n",
    "    global modified_list\n",
    "    modified_list = y.split()\n",
    "    print(\"modified_list = \")\n",
    "    print(modified_list)\n",
    "    return None\n",
    "\n",
    "def when_button_clicked(button):\n",
    "    out = handle_submit(t)\n",
    "    return None \n",
    "\n",
    "b.on_click(when_button_clicked)"
   ]
  },
  {
   "cell_type": "code",
   "execution_count": 53,
   "metadata": {
    "collapsed": false
   },
   "outputs": [
    {
     "data": {
      "text/plain": [
       "0.8962962962962964"
      ]
     },
     "execution_count": 53,
     "metadata": {},
     "output_type": "execute_result"
    }
   ],
   "source": [
    "jellyfish.jaro_distance('jellyfish', 'smellyfish')"
   ]
  },
  {
   "cell_type": "code",
   "execution_count": 210,
   "metadata": {
    "collapsed": false
   },
   "outputs": [],
   "source": [
    "mat_size = (len(modified_list) + len(input_label_list)), (len(found_labels))\n",
    "mat0 = np.array([modified_list + input_label_list])\n",
    "\n",
    "mat1 = np.array([[None] +  modified_list + input_label_list])\n",
    "mat2 = np.array([found_labels]).T\n",
    "mat3 = np.zeros(mat_size)\n",
    "a, b = 0, 0\n",
    "for str1 in modified_list + input_label_list:\n",
    "    for str2 in found_labels:\n",
    "        mat3[a, b] = round(jellyfish.jaro_distance(str1, str2), 3)\n",
    "        a = a + 1\n",
    "    a = 0\n",
    "    b = b + 1\n",
    "mat4 = np.concatenate((mat2, mat3), axis = 1)\n",
    "mat5 = np.concatenate((mat1, mat4), axis = 0)"
   ]
  },
  {
   "cell_type": "code",
   "execution_count": 212,
   "metadata": {
    "collapsed": false
   },
   "outputs": [
    {
     "name": "stdout",
     "output_type": "stream",
     "text": [
      "[[None 'axer' 'indicquer' 'libbele' 'code_hospidiag' 'sous_axe']\n",
      " ['axe' '0.917' '0.0' '0.492' '0.468' '0.0']\n",
      " ['sous_axe' '0.0' '0.412' '0.423' '0.512' '1.0']\n",
      " ['indic' '0.0' '0.852' '0.448' '0.494' '0.0']\n",
      " ['code_hospidiag' '0.44' '0.41' '0.405' '1.0' '0.512']\n",
      " ['libelle' '0.464' '0.503' '0.905' '0.405' '0.423']]\n"
     ]
    }
   ],
   "source": [
    "print(mat)"
   ]
  },
  {
   "cell_type": "code",
   "execution_count": 217,
   "metadata": {
    "collapsed": false
   },
   "outputs": [
    {
     "name": "stdout",
     "output_type": "stream",
     "text": [
      "axe ressemble à axer\n",
      "sous_axe ressemble à sous_axe\n",
      "indic ressemble à indicquer\n",
      "code_hospidiag ressemble à code_hospidiag\n",
      "libelle ressemble à libbele\n"
     ]
    }
   ],
   "source": [
    "treshold = 0.8\n",
    "k = 0\n",
    "a = np.where(mat3>treshold)\n",
    "\n",
    "while k < np.maximum(len(a[0]),len(a[1])):\n",
    "    print(mat2[a[0][k], 0] + \" ressemble à \" + mat0[0,a[1][k]])\n",
    "    k = k + 1"
   ]
  },
  {
   "cell_type": "code",
   "execution_count": null,
   "metadata": {
    "collapsed": true
   },
   "outputs": [],
   "source": []
  },
  {
   "cell_type": "code",
   "execution_count": null,
   "metadata": {
    "collapsed": true
   },
   "outputs": [],
   "source": []
  },
  {
   "cell_type": "code",
   "execution_count": null,
   "metadata": {
    "collapsed": true
   },
   "outputs": [],
   "source": []
  },
  {
   "cell_type": "code",
   "execution_count": 138,
   "metadata": {
    "collapsed": false
   },
   "outputs": [
    {
     "data": {
      "text/plain": [
       "['code_hospidiag', 'libelle']"
      ]
     },
     "execution_count": 138,
     "metadata": {},
     "output_type": "execute_result"
    }
   ],
   "source": [
    "'''md_str = \"# Would you like to keep the following new labels ? You can also edit them before saving them. Just run the next input\"\n",
    "new_label_str = \"[\\\"\" + \"\\\", \\\"\".join(new_labels) + \"\\\"]\"\n",
    "\n",
    "input_str = \"label_list = input_label_list + \" + new_label_str\n",
    "\n",
    "display(Markdown(md_str))\n",
    "get_ipython().set_next_input(input_str)'''"
   ]
  }
 ],
 "metadata": {
  "anaconda-cloud": {},
  "kernelspec": {
   "display_name": "Python [default]",
   "language": "python",
   "name": "python3"
  },
  "language_info": {
   "codemirror_mode": {
    "name": "ipython",
    "version": 3
   },
   "file_extension": ".py",
   "mimetype": "text/x-python",
   "name": "python",
   "nbconvert_exporter": "python",
   "pygments_lexer": "ipython3",
   "version": "3.5.2"
  },
  "widgets": {
   "state": {
    "26391ebe0f2245908c28e51d6c7b37f5": {
     "views": [
      {
       "cell_index": 6
      }
     ]
    },
    "43a51adaea444f37a0fe0a3b3c91abf5": {
     "views": [
      {
       "cell_index": 10
      }
     ]
    },
    "442351f478bd4543bf5e61adefccbaa5": {
     "views": [
      {
       "cell_index": 8
      }
     ]
    },
    "932136686e624a549ad74d36f76b9a86": {
     "views": [
      {
       "cell_index": 10
      }
     ]
    },
    "9ff1272ba09a434aa20b97b10f8e0c71": {
     "views": [
      {
       "cell_index": 6
      }
     ]
    }
   },
   "version": "1.2.0"
  }
 },
 "nbformat": 4,
 "nbformat_minor": 1
}
