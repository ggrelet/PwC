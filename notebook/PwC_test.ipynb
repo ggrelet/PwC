{
 "cells": [
  {
   "cell_type": "markdown",
   "metadata": {},
   "source": [
    "# Session de Recrutement Printemps 2017 - Team Tax Analytics\n",
    "## Rendu de Guillaume Grelet - guillaume.grelet@telecom-paristech.fr\n",
    "\n",
    "Date : février 2017\n"
   ]
  },
  {
   "cell_type": "markdown",
   "metadata": {},
   "source": [
    "Ce rendu a pour but de fournir une réponse à l'exercice posé par PwC sur la gestion de tableur Excel.  \n",
    "Il utilise les packages suivante : jupyter, pandas, PyQt, ipywidgets  \n",
    "  \n",
    "  \n",
    "Notes :\n",
    "Le code suivant est systématiquement commenté en anglais, comme l'usage le veut.  \n"
   ]
  },
  {
   "cell_type": "code",
   "execution_count": 218,
   "metadata": {
    "collapsed": false
   },
   "outputs": [],
   "source": [
    "# Import the necessary packages..\n",
    "\n",
    "# For the widgets\n",
    "%gui qt \n",
    "from IPython.display import display, Markdown, Latex\n",
    "from PyQt5.QtWidgets import QFileDialog\n",
    "from ipywidgets import *\n",
    "\n",
    "# For the excel file processing...\n",
    "import pandas as pd\n",
    "import numpy as np\n",
    "\n",
    "import jellyfish"
   ]
  },
  {
   "cell_type": "code",
   "execution_count": 219,
   "metadata": {
    "collapsed": true
   },
   "outputs": [],
   "source": [
    "def filesearch(dir=None):\n",
    "    \"\"\"\n",
    "    That function allows the user to select a file via a PyQt5 dialog window and return the file name as a str\n",
    "    \"\"\"\n",
    "    if dir is None: dir =\"~/\" # Default path is ~/\n",
    "    filename = QFileDialog.getOpenFileName(None)\n",
    "    return filename[0]"
   ]
  },
  {
   "cell_type": "code",
   "execution_count": 220,
   "metadata": {
    "collapsed": true
   },
   "outputs": [],
   "source": [
    "datapath = filesearch(\"~/\")"
   ]
  },
  {
   "cell_type": "code",
   "execution_count": 253,
   "metadata": {
    "collapsed": false
   },
   "outputs": [
    {
     "name": "stdout",
     "output_type": "stream",
     "text": [
      "Processing file...\n",
      "\n",
      "Processing OK. Stats about processing:\n",
      "\n",
      "CPU times: user 6.75 s, sys: 343 ms, total: 7.09 s\n",
      "Wall time: 7.82 s\n"
     ]
    }
   ],
   "source": [
    "%%time\n",
    "print(\"Processing file...\")\n",
    "data = pd.read_excel(datapath)\n",
    "print(\"\\nProcessing OK. Stats about processing:\\n\")"
   ]
  },
  {
   "cell_type": "code",
   "execution_count": 254,
   "metadata": {
    "collapsed": false
   },
   "outputs": [
    {
     "data": {
      "text/markdown": [
       "## Remplissez ci-dessus la liste des labels standards préprogrammés  "
      ],
      "text/plain": [
       "<IPython.core.display.Markdown object>"
      ]
     },
     "metadata": {},
     "output_type": "display_data"
    }
   ],
   "source": [
    "input_label_widget = widgets.Textarea(\n",
    "    placeholder='Place here the preprocessed labels',\n",
    "    value='code_hospidiag\\nsous_axe',\n",
    "    disabled=False\n",
    ")\n",
    "\n",
    "button1 = widgets.Button(\n",
    "    description='Save',\n",
    "    disabled=False,\n",
    "    button_style='info', # 'success', 'info', 'warning', 'danger' or ''\n",
    "    tooltip='Click me',\n",
    "    icon='check'\n",
    ")\n",
    "\n",
    "\n",
    "display(Markdown(\"## Remplissez ci-dessus la liste des labels standards préprogrammés  \"), input_label_widget, button1)\n",
    "\n",
    "def handle_submit(sender):\n",
    "    global x\n",
    "    x = input_label_widget.value\n",
    "    global input_label_list\n",
    "    input_label_list = x.split()\n",
    "    print(\"input_label_list = \")\n",
    "    print(input_label_list)\n",
    "    print(\"Fichier sauvé\")\n",
    "    return None\n",
    "\n",
    "def when_button_clicked(button1):\n",
    "    out = handle_submit(input_label_widget)\n",
    "    return None \n",
    "\n",
    "button1.on_click(when_button_clicked)"
   ]
  },
  {
   "cell_type": "code",
   "execution_count": 225,
   "metadata": {
    "collapsed": false
   },
   "outputs": [
    {
     "name": "stdout",
     "output_type": "stream",
     "text": [
      "Found labels are the following:\n",
      "    axe\n",
      "    sous_axe\n",
      "    indic\n",
      "    code_hospidiag\n",
      "    libelle\n"
     ]
    }
   ],
   "source": [
    "found_labels = list(data)\n",
    "print(\"Found labels are the following:\")\n",
    "for str in found_labels:\n",
    "    print(\"    \" + str)"
   ]
  },
  {
   "cell_type": "code",
   "execution_count": 226,
   "metadata": {
    "collapsed": false
   },
   "outputs": [
    {
     "data": {
      "text/markdown": [
       "## Les labels ci-dessus sont issus du fichier Excel et existent dans la liste prépprogrammée"
      ],
      "text/plain": [
       "<IPython.core.display.Markdown object>"
      ]
     },
     "metadata": {},
     "output_type": "display_data"
    }
   ],
   "source": [
    "intersection = list(set(found_labels).intersection(input_label_list))\n",
    "#print(intersection)\n",
    "\n",
    "existing_label_widget = widgets.Textarea(\n",
    "    value=\"\\n\".join(intersection) + \"\\n\",\n",
    "    placeholder='Type something',\n",
    "    disabled=True\n",
    ")\n",
    "\n",
    "display(Markdown(\"## Les labels ci-dessus sont issus du fichier Excel et existent dans la liste prépprogrammée\"), existing_label_widget)"
   ]
  },
  {
   "cell_type": "markdown",
   "metadata": {},
   "source": [
    "  "
   ]
  },
  {
   "cell_type": "code",
   "execution_count": 259,
   "metadata": {
    "collapsed": false
   },
   "outputs": [
    {
     "data": {
      "text/markdown": [
       "## Les labels ci-dessus ne sont pas dans la liste standardisée et sont donc nouveaux. Vous pouvez modifier la liste et les ajouter"
      ],
      "text/plain": [
       "<IPython.core.display.Markdown object>"
      ]
     },
     "metadata": {},
     "output_type": "display_data"
    },
    {
     "name": "stdout",
     "output_type": "stream",
     "text": [
      "modified_list = \n",
      "['axer', 'indic', 'codes_hospidiag', 'libelle']\n"
     ]
    }
   ],
   "source": [
    "new_labels = []\n",
    "for str in found_labels:\n",
    "    if str not in intersection:\n",
    "        new_labels.append(str)\n",
    "                \n",
    "preprocessed_label_widget = widgets.Textarea(\n",
    "    value=\"\\n\".join(new_labels) + \"\\n\",\n",
    "    placeholder='Type something',\n",
    "    disabled=False\n",
    ")\n",
    "\n",
    "button2 = widgets.Button(\n",
    "    description='Ok',\n",
    "    disabled=False,\n",
    "    button_style='info', # 'success', 'info', 'warning', 'danger' or ''\n",
    "    tooltip='Click me',\n",
    "    icon='check'\n",
    ")\n",
    "\n",
    "display(Markdown(\"## Les labels ci-dessus ne sont pas dans la liste standardisée et sont donc nouveaux. Vous pouvez modifier la liste et les ajouter\"), preprocessed_label_widget, button2)\n",
    "\n",
    "def handle_submit(sender):\n",
    "    global y\n",
    "    y = preprocessed_label_widget.value\n",
    "    global modified_list\n",
    "    modified_list = y.split()\n",
    "    print(\"modified_list = \")\n",
    "    print(modified_list)\n",
    "    return None\n",
    "\n",
    "def when_button_clicked(button):\n",
    "    out = handle_submit(preprocessed_label_widget)\n",
    "    return None \n",
    "\n",
    "button2.on_click(when_button_clicked)"
   ]
  },
  {
   "cell_type": "code",
   "execution_count": 230,
   "metadata": {
    "collapsed": false
   },
   "outputs": [],
   "source": [
    "mat_size = (len(modified_list) + len(input_label_list)), (len(found_labels))\n",
    "mat0 = np.array([modified_list + input_label_list])\n",
    "\n",
    "mat1 = np.array([[None] +  modified_list + input_label_list])\n",
    "mat2 = np.array([found_labels]).T\n",
    "mat3 = np.zeros(mat_size)\n",
    "a, b = 0, 0\n",
    "for str1 in modified_list + input_label_list:\n",
    "    for str2 in found_labels:\n",
    "        mat3[a, b] = round(jellyfish.jaro_distance(str1, str2), 3)\n",
    "        a = a + 1\n",
    "    a = 0\n",
    "    b = b + 1\n",
    "mat4 = np.concatenate((mat2, mat3), axis = 1)\n",
    "mat5 = np.concatenate((mat1, mat4), axis = 0)"
   ]
  },
  {
   "cell_type": "code",
   "execution_count": 233,
   "metadata": {
    "collapsed": false
   },
   "outputs": [
    {
     "name": "stdout",
     "output_type": "stream",
     "text": [
      "[[None 'codes_hospidiag' 'sous_axe' 'label1' 'label2' 'axer']\n",
      " ['axe' '0.467' '0.0' '0.667' '0.667' '0.917']\n",
      " ['sous_axe' '0.586' '1.0' '0.0' '0.0' '0.0']\n",
      " ['indic' '0.344' '0.0' '0.0' '0.0' '0.0']\n",
      " ['code_hospidiag' '0.93' '0.512' '0.413' '0.413' '0.44']\n",
      " ['libelle' '0.403' '0.423' '0.746' '0.746' '0.464']]\n"
     ]
    }
   ],
   "source": [
    "print(mat5)"
   ]
  },
  {
   "cell_type": "code",
   "execution_count": 294,
   "metadata": {
    "collapsed": false
   },
   "outputs": [
    {
     "name": "stdout",
     "output_type": "stream",
     "text": [
      "Recherche de labels similaires\n",
      "    ------>  axe ressemble à axer\n",
      "    ------>  sous_axe ressemble à sous_axe\n",
      "    ------>  code_hospidiag ressemble à codes_hospidiag\n",
      "Labels similaires remplacés\n"
     ]
    }
   ],
   "source": [
    "treshold = 0.8\n",
    "k = 0\n",
    "a = np.where(mat3>treshold)\n",
    "matched_labels = found_labels\n",
    "print(\"Recherche de labels similaires\")\n",
    "while k < np.maximum(len(a[0]),len(a[1])):\n",
    "    print(\"    ------>  \" + mat2[a[0][k], 0] + \" ressemble à \" + mat0[0,a[1][k]])\n",
    "    for x in matched_labels:\n",
    "        if x == mat2[a[0][k], 0]:\n",
    "            matched_labels[matched_labels.index(mat2[a[0][k], 0])] = mat0[0,a[1][k]]\n",
    "    k = k + 1\n",
    "print(\"Labels similaires remplacés\")\n",
    "\n"
   ]
  },
  {
   "cell_type": "markdown",
   "metadata": {},
   "source": []
  },
  {
   "cell_type": "code",
   "execution_count": null,
   "metadata": {
    "collapsed": true
   },
   "outputs": [],
   "source": []
  },
  {
   "cell_type": "code",
   "execution_count": 303,
   "metadata": {
    "collapsed": false
   },
   "outputs": [
    {
     "data": {
      "text/markdown": [
       "## Vous pouvez modifier la liste et les ajouter pour lier"
      ],
      "text/plain": [
       "<IPython.core.display.Markdown object>"
      ]
     },
     "metadata": {},
     "output_type": "display_data"
    },
    {
     "data": {
      "text/markdown": [
       "## Vous pouvez le faire autant de fois que vous voulez"
      ],
      "text/plain": [
       "<IPython.core.display.Markdown object>"
      ]
     },
     "metadata": {},
     "output_type": "display_data"
    },
    {
     "name": "stdout",
     "output_type": "stream",
     "text": [
      "{'Autos': ['Automobiles', 'Voiture', 'Car']}\n"
     ]
    }
   ],
   "source": [
    "dico = {}\n",
    "\n",
    "linker_label_widget = widgets.Text(\n",
    "    value='Autos',\n",
    "    placeholder='Type something',\n",
    "    disabled=False\n",
    ")\n",
    "\n",
    "linked_label_widget = widgets.Textarea(\n",
    "    value=\"Automobiles\\nVoiture\\nCar\",\n",
    "    placeholder='Type something',\n",
    "    disabled=False\n",
    ")\n",
    "\n",
    "button3 = widgets.Button(\n",
    "    description='Save',\n",
    "    disabled=False,\n",
    "    button_style='info', # 'success', 'info', 'warning', 'danger' or ''\n",
    "    tooltip='Click me',\n",
    "    icon='check'\n",
    ")\n",
    "\n",
    "display(Markdown(\"## Vous pouvez modifier la liste et les ajouter pour lier\"), Markdown(\"## Vous pouvez le faire autant de fois que vous voulez\"), linker_label_widget, linked_label_widget, button2)\n",
    "\n",
    "def handle_submit(sender):\n",
    "    global linker\n",
    "    linker = linker_label_widget.value\n",
    "    global links\n",
    "    links = linked_label_widget.value.split()\n",
    "    global dico\n",
    "    di = {linker: links}\n",
    "    dico.update(di)\n",
    "    print(dico)\n",
    "    return None\n",
    "\n",
    "def when_button_clicked(button):\n",
    "    out = handle_submit(linked_label_widget)\n",
    "    return None \n",
    "\n"
   ]
  },
  {
   "cell_type": "code",
   "execution_count": 302,
   "metadata": {
    "collapsed": false
   },
   "outputs": [],
   "source": []
  },
  {
   "cell_type": "code",
   "execution_count": null,
   "metadata": {
    "collapsed": true
   },
   "outputs": [],
   "source": []
  }
 ],
 "metadata": {
  "anaconda-cloud": {},
  "kernelspec": {
   "display_name": "Python [default]",
   "language": "python",
   "name": "python3"
  },
  "language_info": {
   "codemirror_mode": {
    "name": "ipython",
    "version": 3
   },
   "file_extension": ".py",
   "mimetype": "text/x-python",
   "name": "python",
   "nbconvert_exporter": "python",
   "pygments_lexer": "ipython3",
   "version": "3.5.2"
  },
  "widgets": {
   "state": {
    "0d27175dd95946b1a9f8349d70205a39": {
     "views": [
      {
       "cell_index": 10
      }
     ]
    },
    "162927a93ae844de812a82c7b450bdaf": {
     "views": [
      {
       "cell_index": 16
      }
     ]
    },
    "1d1ab6a007a440688b03e9f4be3bf736": {
     "views": [
      {
       "cell_index": 16
      }
     ]
    },
    "1e54528fff3e4bdb882f0d983704943f": {
     "views": [
      {
       "cell_index": 16
      }
     ]
    },
    "1f8a6e77a30b465a8df1fd484b704c03": {
     "views": [
      {
       "cell_index": 16
      }
     ]
    },
    "2bdf7f7e31124fa9b27d9f8c58d22387": {
     "views": [
      {
       "cell_index": 16
      }
     ]
    },
    "320c5f8aaf1d486bb936cd6b89a7c458": {
     "views": [
      {
       "cell_index": 6
      }
     ]
    },
    "3594fcef38e84dd5952a81cf202f9b94": {
     "views": [
      {
       "cell_index": 16
      }
     ]
    },
    "3db6a78a65c249d9a6cedda3c8fde5a1": {
     "views": [
      {
       "cell_index": 8
      }
     ]
    },
    "43a51adaea444f37a0fe0a3b3c91abf5": {
     "views": [
      {
       "cell_index": 10
      }
     ]
    },
    "44abc0257aa141b28a0c24cbd35124a1": {
     "views": [
      {
       "cell_index": 16
      }
     ]
    },
    "5564fbfc46e94aa1ad0366e7ed1535d0": {
     "views": [
      {
       "cell_index": 6
      }
     ]
    },
    "58ed32c7e1bd42bfbbb1b64b52d47e79": {
     "views": [
      {
       "cell_index": 10
      },
      {
       "cell_index": 16
      },
      {
       "cell_index": 16
      }
     ]
    },
    "592938e77b754b2c91d1745618a93526": {
     "views": [
      {
       "cell_index": 16
      }
     ]
    },
    "69ab3be69d894d848bac3e525687de17": {
     "views": [
      {
       "cell_index": 16
      }
     ]
    },
    "7ca94667f41c49ed8f8c07624bf8f2bc": {
     "views": [
      {
       "cell_index": 10
      },
      {
       "cell_index": 16
      }
     ]
    },
    "83f3441c86d849b19a989bdb19464052": {
     "views": [
      {
       "cell_index": 16
      }
     ]
    },
    "96647aa5ffe648709042e0e2516f3d52": {
     "views": [
      {
       "cell_index": 16
      }
     ]
    },
    "995b0698da6d41fb95054c63e0bae61e": {
     "views": [
      {
       "cell_index": 16
      }
     ]
    },
    "9b6d81c910b444ac851ca4b0b6a7df18": {
     "views": [
      {
       "cell_index": 6
      }
     ]
    },
    "9e23d4bdad9242bba6d88bf30fe3f8d4": {
     "views": [
      {
       "cell_index": 16
      }
     ]
    },
    "9ff1272ba09a434aa20b97b10f8e0c71": {
     "views": [
      {
       "cell_index": 6
      }
     ]
    },
    "a0bf6ffd14d541018eff8841d2fc2482": {
     "views": [
      {
       "cell_index": 16
      }
     ]
    },
    "aa10d4edcc74460884fb2a16233cf9a2": {
     "views": [
      {
       "cell_index": 16
      }
     ]
    },
    "b1d7e5cad73548eb8b322f9ff5a752de": {
     "views": [
      {
       "cell_index": 16
      }
     ]
    },
    "b4ff08c89066490db9b91ffc72062ae5": {
     "views": [
      {
       "cell_index": 10
      }
     ]
    },
    "bc8d3cb7c0664f85a201fa8be50d5d51": {
     "views": [
      {
       "cell_index": 6
      }
     ]
    },
    "cbfe9a2bbe904a0fbd6328badb8711a9": {
     "views": [
      {
       "cell_index": 16
      }
     ]
    },
    "dcc10835077b4ab49718f2b92a435fd9": {
     "views": [
      {
       "cell_index": 16
      }
     ]
    },
    "eba321da2e324cd99ce580bda4c9225e": {
     "views": [
      {
       "cell_index": 16
      }
     ]
    }
   },
   "version": "1.2.0"
  }
 },
 "nbformat": 4,
 "nbformat_minor": 1
}
