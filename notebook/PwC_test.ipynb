{
 "cells": [
  {
   "cell_type": "code",
   "execution_count": 121,
   "metadata": {
    "collapsed": false
   },
   "outputs": [],
   "source": [
    "# Import the necessary packages\n",
    "import pandas as pd\n",
    "from IPython.display import display, Markdown, Latex\n",
    "\n",
    "# Manually change inputs\n",
    "datapath = \"./data/test.xlsx\"\n",
    "\n",
    "input_label_list = [\"axe\", \"sous_axe\", \"indic\", \"label4\", \"label5\", \"label6\"]"
   ]
  },
  {
   "cell_type": "code",
   "execution_count": 128,
   "metadata": {
    "collapsed": false
   },
   "outputs": [
    {
     "name": "stdout",
     "output_type": "stream",
     "text": [
      "Processing file...\n",
      "\n",
      "Processing OK!\n"
     ]
    }
   ],
   "source": [
    "print(\"Processing file...\")\n",
    "data = pd.read_excel(datapath)\n",
    "print(\"\\nProcessing OK!\")"
   ]
  },
  {
   "cell_type": "code",
   "execution_count": 130,
   "metadata": {
    "collapsed": false
   },
   "outputs": [
    {
     "name": "stdout",
     "output_type": "stream",
     "text": [
      "Found labels are the£ following:\n",
      "    axe\n",
      "    sous_axe\n",
      "    indic\n",
      "    code_hospidiag\n",
      "    libelle\n"
     ]
    }
   ],
   "source": [
    "found_labels = list(data)\n",
    "print(\"Found labels are the£ following:\")\n",
    "for str in found_labels:\n",
    "    print(\"    \" + str)"
   ]
  },
  {
   "cell_type": "code",
   "execution_count": 138,
   "metadata": {
    "collapsed": false,
    "scrolled": true
   },
   "outputs": [
    {
     "data": {
      "text/markdown": [
       "# Would you like to keep the following new labels ? You can also edit them before saving them. Just run the next input"
      ],
      "text/plain": [
       "<IPython.core.display.Markdown object>"
      ]
     },
     "metadata": {},
     "output_type": "display_data"
    }
   ],
   "source": [
    "intersection = set(found_labels).intersection(input_label_list)\n",
    "intersection = list(intersection)\n",
    "\n",
    "new_labels = []\n",
    "for str in found_labels:\n",
    "    if str not in intersection:\n",
    "        new_labels.append(str)\n",
    "        \n",
    "md_str = \"# Would you like to keep the following new labels ? You can also edit them before saving them. Just run the next input\"\n",
    "new_label_str = \"[\\\"\" + \"\\\", \\\"\".join(new_labels) + \"\\\"]\"\n",
    "\n",
    "input_str = \"label_list = input_label_list + \" + new_labels_str\n",
    "\n",
    "display(Markdown(md_str))\n",
    "get_ipython().set_next_input(input_str)"
   ]
  },
  {
   "cell_type": "code",
   "execution_count": 139,
   "metadata": {
    "collapsed": true
   },
   "outputs": [],
   "source": [
    "label_list = input_label_list + [\"code_hospidiag\", \"libelle\"]"
   ]
  },
  {
   "cell_type": "code",
   "execution_count": 140,
   "metadata": {
    "collapsed": false
   },
   "outputs": [
    {
     "data": {
      "text/plain": [
       "['axe',\n",
       " 'sous_axe',\n",
       " 'indic',\n",
       " 'label4',\n",
       " 'label5',\n",
       " 'label6',\n",
       " 'code_hospidiag',\n",
       " 'libelle']"
      ]
     },
     "execution_count": 140,
     "metadata": {},
     "output_type": "execute_result"
    }
   ],
   "source": [
    "label_list"
   ]
  },
  {
   "cell_type": "code",
   "execution_count": null,
   "metadata": {
    "collapsed": true
   },
   "outputs": [],
   "source": []
  }
 ],
 "metadata": {
  "anaconda-cloud": {},
  "kernelspec": {
   "display_name": "Python [default]",
   "language": "python",
   "name": "python3"
  },
  "language_info": {
   "codemirror_mode": {
    "name": "ipython",
    "version": 3
   },
   "file_extension": ".py",
   "mimetype": "text/x-python",
   "name": "python",
   "nbconvert_exporter": "python",
   "pygments_lexer": "ipython3",
   "version": "3.5.2"
  }
 },
 "nbformat": 4,
 "nbformat_minor": 1
}
