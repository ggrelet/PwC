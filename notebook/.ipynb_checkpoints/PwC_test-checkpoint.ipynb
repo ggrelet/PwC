{
 "cells": [
  {
   "cell_type": "markdown",
   "metadata": {},
   "source": [
    "# Session de Recrutement Printemps 2017 - Team Tax Analytics\n",
    "## Rendu de Guillaume Grelet - guillaume.grelet@telecom-paristech.fr\n",
    "\n",
    "Date : février 2017\n"
   ]
  },
  {
   "cell_type": "markdown",
   "metadata": {},
   "source": [
    "Ce rendu a pour but de fournir une réponse à l'exercice posé par PwC sur la gestion de tableur Excel.  \n",
    "Il utilise les packages suivante : jupyter, pandas, PyQt, ipywidgets  \n",
    "  \n",
    "  \n",
    "Notes :\n",
    "Le code suivant est systématiquement commenté en anglais, comme l'usage le veut.  \n"
   ]
  },
  {
   "cell_type": "code",
   "execution_count": 205,
   "metadata": {
    "collapsed": false
   },
   "outputs": [
    {
     "ename": "ImportError",
     "evalue": "No module named 'jellyfish'",
     "output_type": "error",
     "traceback": [
      "\u001b[0;31m---------------------------------------------------------------------------\u001b[0m",
      "\u001b[0;31mImportError\u001b[0m                               Traceback (most recent call last)",
      "\u001b[0;32m<ipython-input-205-ec85464d85c8>\u001b[0m in \u001b[0;36m<module>\u001b[0;34m()\u001b[0m\n\u001b[1;32m     10\u001b[0m \u001b[0;32mimport\u001b[0m \u001b[0mpandas\u001b[0m \u001b[0;32mas\u001b[0m \u001b[0mpd\u001b[0m\u001b[0;34m\u001b[0m\u001b[0m\n\u001b[1;32m     11\u001b[0m \u001b[0;34m\u001b[0m\u001b[0m\n\u001b[0;32m---> 12\u001b[0;31m \u001b[0;32mimport\u001b[0m \u001b[0mjellyfish\u001b[0m\u001b[0;34m\u001b[0m\u001b[0m\n\u001b[0m",
      "\u001b[0;31mImportError\u001b[0m: No module named 'jellyfish'"
     ]
    }
   ],
   "source": [
    "# Import the necessary packages..\n",
    "\n",
    "# For the widgets\n",
    "%gui qt \n",
    "from IPython.display import display, Markdown, Latex\n",
    "from PyQt5.QtWidgets import QFileDialog\n",
    "from ipywidgets import *\n",
    "\n",
    "# For the excel file processing...\n",
    "import pandas as pd\n",
    "\n",
    "import jellyfish\n"
   ]
  },
  {
   "cell_type": "code",
   "execution_count": 145,
   "metadata": {
    "collapsed": true
   },
   "outputs": [],
   "source": [
    "def filesearch(dir=None):\n",
    "    \"\"\"\n",
    "    That function allows the user to select a file via a PyQt5 dialog window and return the file name as a str\n",
    "    \"\"\"\n",
    "    if dir is None: dir =\"~/\" # Default path is ~/\n",
    "    filename = QFileDialog.getOpenFileName(None)\n",
    "    return filename[0]"
   ]
  },
  {
   "cell_type": "code",
   "execution_count": 152,
   "metadata": {
    "collapsed": true
   },
   "outputs": [],
   "source": [
    "datapath = filesearch(\"~/\")"
   ]
  },
  {
   "cell_type": "code",
   "execution_count": 147,
   "metadata": {
    "collapsed": false
   },
   "outputs": [
    {
     "name": "stdout",
     "output_type": "stream",
     "text": [
      "Processing file...\n",
      "\n",
      "Processing OK. Stats about processing:\n",
      "\n",
      "CPU times: user 9.12 s, sys: 308 ms, total: 9.43 s\n",
      "Wall time: 9.88 s\n"
     ]
    }
   ],
   "source": [
    "%%time\n",
    "print(\"Processing file...\")\n",
    "data = pd.read_excel(datapath)\n",
    "print(\"\\nProcessing OK. Stats about processing:\\n\")"
   ]
  },
  {
   "cell_type": "code",
   "execution_count": 190,
   "metadata": {
    "collapsed": false
   },
   "outputs": [
    {
     "data": {
      "text/markdown": [
       "## Remplissez ci-dessus la liste des labels standards préprogrammés  "
      ],
      "text/plain": [
       "<IPython.core.display.Markdown object>"
      ]
     },
     "metadata": {},
     "output_type": "display_data"
    },
    {
     "name": "stdout",
     "output_type": "stream",
     "text": [
      "input_label_list = \n",
      "['code_hospidiag', 'sous_axe']\n",
      "input_label_list = \n",
      "['code_hospidiag', 'sous_axe', 'test']\n"
     ]
    }
   ],
   "source": [
    "input_label_widget = widgets.Textarea(\n",
    "    placeholder='Place here the preprocessed labels',\n",
    "    value='code_hospidiag\\nsous_axe',\n",
    "    disabled=False\n",
    ")\n",
    "\n",
    "button1 = widgets.Button(\n",
    "    description='Save',\n",
    "    disabled=False,\n",
    "    button_style='info', # 'success', 'info', 'warning', 'danger' or ''\n",
    "    tooltip='Click me',\n",
    "    icon='check'\n",
    ")\n",
    "\n",
    "\n",
    "display(Markdown(\"## Remplissez ci-dessus la liste des labels standards préprogrammés  \"), input_label_widget, button1)\n",
    "\n",
    "def handle_submit(sender):\n",
    "    global x\n",
    "    x = input_label_widget.value\n",
    "    global input_label_list\n",
    "    input_label_list = x.split()\n",
    "    print(\"input_label_list = \")\n",
    "    print(input_label_list)\n",
    "    return None\n",
    "\n",
    "def when_button_clicked(button1):\n",
    "    out = handle_submit(input_label_widget)\n",
    "    return None \n",
    "\n",
    "button1.on_click(when_button_clicked)"
   ]
  },
  {
   "cell_type": "code",
   "execution_count": 192,
   "metadata": {
    "collapsed": false
   },
   "outputs": [
    {
     "name": "stdout",
     "output_type": "stream",
     "text": [
      "Found labels are the following:\n",
      "    axe\n",
      "    sous_axe\n",
      "    indic\n",
      "    code_hospidiag\n",
      "    libelle\n"
     ]
    }
   ],
   "source": [
    "found_labels = list(data)\n",
    "print(\"Found labels are the following:\")\n",
    "for str in found_labels:\n",
    "    print(\"    \" + str)"
   ]
  },
  {
   "cell_type": "code",
   "execution_count": 200,
   "metadata": {
    "collapsed": false
   },
   "outputs": [
    {
     "data": {
      "text/markdown": [
       "## Les labels ci-dessus sont issus du fichier Excel et existent dans la liste prépprogrammée"
      ],
      "text/plain": [
       "<IPython.core.display.Markdown object>"
      ]
     },
     "metadata": {},
     "output_type": "display_data"
    }
   ],
   "source": [
    "intersection = list(set(found_labels).intersection(input_label_list))\n",
    "#print(intersection)\n",
    "\n",
    "existing_label_widget = widgets.Textarea(\n",
    "    value=\"\\n\".join(intersection) + \"\\n\",\n",
    "    placeholder='Type something',\n",
    "    disabled=True\n",
    ")\n",
    "\n",
    "display(Markdown(\"## Les labels ci-dessus sont issus du fichier Excel et existent dans la liste prépprogrammée\"), existing_label_widget)"
   ]
  },
  {
   "cell_type": "markdown",
   "metadata": {},
   "source": [
    "  "
   ]
  },
  {
   "cell_type": "code",
   "execution_count": 201,
   "metadata": {
    "collapsed": false
   },
   "outputs": [
    {
     "data": {
      "text/markdown": [
       "## Les labels ci-dessus ne sont pas dans la liste standardisée et sont donc nouveaux. Vous pouvez modifier la liste et les ajouter"
      ],
      "text/plain": [
       "<IPython.core.display.Markdown object>"
      ]
     },
     "metadata": {},
     "output_type": "display_data"
    }
   ],
   "source": [
    "new_labels = []\n",
    "for str in found_labels:\n",
    "    if str not in intersection:\n",
    "        new_labels.append(str)\n",
    "                \n",
    "t = widgets.Textarea(\n",
    "    value=\"\\n\".join(new_labels) + \"\\n\",\n",
    "    placeholder='Type something',\n",
    "    disabled=False\n",
    ")\n",
    "\n",
    "b = widgets.Button(\n",
    "    description='Ok',\n",
    "    disabled=False,\n",
    "    button_style='info', # 'success', 'info', 'warning', 'danger' or ''\n",
    "    tooltip='Click me',\n",
    "    icon='check'\n",
    ")\n",
    "\n",
    "display(Markdown(\"## Les labels ci-dessus ne sont pas dans la liste standardisée et sont donc nouveaux. Vous pouvez modifier la liste et les ajouter\"), t, b)\n",
    "\n",
    "def handle_submit(sender):\n",
    "    global y\n",
    "    y = t.value\n",
    "    global modified_list\n",
    "    modified_list = y.split()\n",
    "    print(\"modified_list = \")\n",
    "    print(modified_list)\n",
    "    return None\n",
    "\n",
    "def when_button_clicked(button):\n",
    "    out = handle_submit(t)\n",
    "    return None \n",
    "\n",
    "b.on_click(when_button_clicked)"
   ]
  },
  {
   "cell_type": "code",
   "execution_count": null,
   "metadata": {
    "collapsed": true
   },
   "outputs": [],
   "source": []
  },
  {
   "cell_type": "code",
   "execution_count": null,
   "metadata": {
    "collapsed": true
   },
   "outputs": [],
   "source": []
  },
  {
   "cell_type": "code",
   "execution_count": null,
   "metadata": {
    "collapsed": true
   },
   "outputs": [],
   "source": []
  },
  {
   "cell_type": "code",
   "execution_count": null,
   "metadata": {
    "collapsed": true
   },
   "outputs": [],
   "source": []
  },
  {
   "cell_type": "code",
   "execution_count": null,
   "metadata": {
    "collapsed": true
   },
   "outputs": [],
   "source": []
  },
  {
   "cell_type": "code",
   "execution_count": null,
   "metadata": {
    "collapsed": true
   },
   "outputs": [],
   "source": []
  },
  {
   "cell_type": "code",
   "execution_count": 138,
   "metadata": {
    "collapsed": false
   },
   "outputs": [
    {
     "data": {
      "text/plain": [
       "['code_hospidiag', 'libelle']"
      ]
     },
     "execution_count": 138,
     "metadata": {},
     "output_type": "execute_result"
    }
   ],
   "source": [
    "'''md_str = \"# Would you like to keep the following new labels ? You can also edit them before saving them. Just run the next input\"\n",
    "new_label_str = \"[\\\"\" + \"\\\", \\\"\".join(new_labels) + \"\\\"]\"\n",
    "\n",
    "input_str = \"label_list = input_label_list + \" + new_label_str\n",
    "\n",
    "display(Markdown(md_str))\n",
    "get_ipython().set_next_input(input_str)'''"
   ]
  }
 ],
 "metadata": {
  "anaconda-cloud": {},
  "kernelspec": {
   "display_name": "Python [default]",
   "language": "python",
   "name": "python3"
  },
  "language_info": {
   "codemirror_mode": {
    "name": "ipython",
    "version": 3
   },
   "file_extension": ".py",
   "mimetype": "text/x-python",
   "name": "python",
   "nbconvert_exporter": "python",
   "pygments_lexer": "ipython3",
   "version": "3.5.2"
  },
  "widgets": {
   "state": {
    "026fef62603e4aa0ad9f90a0cd639460": {
     "views": [
      {
       "cell_index": 8
      }
     ]
    },
    "03148eb7468a4a9da75fda7dcc7460b9": {
     "views": [
      {
       "cell_index": 8
      }
     ]
    },
    "07fa87aaa8f44683868ed4d4942b899f": {
     "views": [
      {
       "cell_index": 7
      }
     ]
    },
    "0e6e7cc894464ae38a9141049b87a1db": {
     "views": [
      {
       "cell_index": 8
      }
     ]
    },
    "0f4239a877744a0d92263b26a5aec63a": {
     "views": [
      {
       "cell_index": 8
      }
     ]
    },
    "148b8f77121742819afaadd573aceaa8": {
     "views": [
      {
       "cell_index": 6
      }
     ]
    },
    "174c9cbd12534d7ab3a318356800b2b6": {
     "views": [
      {
       "cell_index": 8
      }
     ]
    },
    "1e1d4962e5da473aae08e33375d8c082": {
     "views": [
      {
       "cell_index": 6
      }
     ]
    },
    "1e57c8cc8be14a1dbbe42bcb1d49e0c1": {
     "views": [
      {
       "cell_index": 6
      }
     ]
    },
    "1fed2675a09b4044a5e77903c060c6c5": {
     "views": [
      {
       "cell_index": 8
      }
     ]
    },
    "252a9024035e4901be83205cd9fe1750": {
     "views": [
      {
       "cell_index": 7
      }
     ]
    },
    "27fa43009de24e2fa9dc47dedcb80ac3": {
     "views": [
      {
       "cell_index": 6
      }
     ]
    },
    "2c9cdce8719b47deba3a94865cbe4778": {
     "views": [
      {
       "cell_index": 6
      }
     ]
    },
    "2f33be7763ab414abe046c4f6579b154": {
     "views": [
      {
       "cell_index": 6
      }
     ]
    },
    "2ff32686fd7c487bb6c4cdb250e4cba7": {
     "views": [
      {
       "cell_index": 8
      }
     ]
    },
    "349bf37523e643e99a8eca7ad9e6d2de": {
     "views": [
      {
       "cell_index": 6
      }
     ]
    },
    "35aea96d7190491f9747e02aa38d15a7": {
     "views": [
      {
       "cell_index": 7
      }
     ]
    },
    "36c929754b704e52a326aa67f67d8eee": {
     "views": [
      {
       "cell_index": 6
      }
     ]
    },
    "383d07e6daa84348a3e53e4c6458eff2": {
     "views": [
      {
       "cell_index": 8
      }
     ]
    },
    "387b196fe2714d009a7c4c147601ad5f": {
     "views": [
      {
       "cell_index": 10
      }
     ]
    },
    "38997eb515e24b22a525b017e4ecf267": {
     "views": [
      {
       "cell_index": 6
      }
     ]
    },
    "397cd6250acb4897b35f9ebbb1039061": {
     "views": [
      {
       "cell_index": 8
      }
     ]
    },
    "3b7f69a7fc8c4796b1bd69b07f41c36a": {
     "views": [
      {
       "cell_index": 8
      }
     ]
    },
    "3dcb1acfa6734760b17640d003bb302d": {
     "views": [
      {
       "cell_index": 7
      }
     ]
    },
    "3e2ada9493354df48c87dfd55ef97843": {
     "views": [
      {
       "cell_index": 8
      }
     ]
    },
    "4020059298844dbe8aee9dabb3afc57e": {
     "views": [
      {
       "cell_index": 6
      }
     ]
    },
    "46a70fe776e944af8e54a725d2e8d7a3": {
     "views": [
      {
       "cell_index": 10
      }
     ]
    },
    "4dcc4c4c320044989653286356652d75": {
     "views": [
      {
       "cell_index": 9
      }
     ]
    },
    "4f566ec83e91498ab8d078bc01580840": {
     "views": [
      {
       "cell_index": 8
      }
     ]
    },
    "50f0ac46121746cf85bb8dc1df2182f7": {
     "views": [
      {
       "cell_index": 6
      }
     ]
    },
    "55c12dbe7a304835896a63dcb84a9fa3": {
     "views": [
      {
       "cell_index": 8
      }
     ]
    },
    "588f79ecd5d74e44a1492709ca431c27": {
     "views": [
      {
       "cell_index": 6
      }
     ]
    },
    "5d8252280ae24019b9d8405243d4b673": {
     "views": [
      {
       "cell_index": 8
      }
     ]
    },
    "644ed24b9dd0403ead3f14073948c19a": {
     "views": [
      {
       "cell_index": 8
      }
     ]
    },
    "65202a2b6afb4f4592e9d7cfde79dacd": {
     "views": [
      {
       "cell_index": 8
      }
     ]
    },
    "6a49969c494249a8be5dbea9491a20ce": {
     "views": [
      {
       "cell_index": 6
      }
     ]
    },
    "6c172c821bb04662878764fdca4eebfb": {
     "views": [
      {
       "cell_index": 6
      }
     ]
    },
    "6ed3fcf018fa4a589b53fc1603d561ee": {
     "views": [
      {
       "cell_index": 8
      }
     ]
    },
    "76847daa62ce4c6d8d01ba3596f3a3ae": {
     "views": [
      {
       "cell_index": 8
      }
     ]
    },
    "77560d37c3b24122a2ec55525a8f25ca": {
     "views": [
      {
       "cell_index": 9
      }
     ]
    },
    "7af887615da244ee8e2a2e6f9e303147": {
     "views": [
      {
       "cell_index": 8
      }
     ]
    },
    "7c0dea86530049fcaed5cc82c062cb2d": {
     "views": [
      {
       "cell_index": 8
      }
     ]
    },
    "7efd7fb38baa4fa78c627b0123ae4fac": {
     "views": [
      {
       "cell_index": 8
      }
     ]
    },
    "7f80eefa43c542278f671f9fd185598d": {
     "views": [
      {
       "cell_index": 9
      }
     ]
    },
    "816a771cc4c74c98abecab943fd6319d": {
     "views": [
      {
       "cell_index": 7
      }
     ]
    },
    "81b1c20ac32642bf8006cc98f82f33c8": {
     "views": [
      {
       "cell_index": 8
      }
     ]
    },
    "82452451cd0a4e548b7e55a2f2892571": {
     "views": [
      {
       "cell_index": 8
      }
     ]
    },
    "83c508c0e92643e687c2f8ab881ca3f7": {
     "views": [
      {
       "cell_index": 8
      }
     ]
    },
    "8fbc1e450b8e444dbcffd767116fb704": {
     "views": [
      {
       "cell_index": 6
      }
     ]
    },
    "90235201150f4d69a54cfb2d44eba431": {
     "views": [
      {
       "cell_index": 8
      }
     ]
    },
    "90b3856c526f453ab4b1fe9588c451e7": {
     "views": [
      {
       "cell_index": 8
      }
     ]
    },
    "928999586ff941beab07f18bb961cceb": {
     "views": [
      {
       "cell_index": 7
      }
     ]
    },
    "9600d2bdec5149dfa05820017665e211": {
     "views": [
      {
       "cell_index": 8
      }
     ]
    },
    "9658bcd7f523454384fa578c4187e235": {
     "views": [
      {
       "cell_index": 8
      }
     ]
    },
    "98ed146641d94f0c8380bb4881f5e44c": {
     "views": [
      {
       "cell_index": 8
      }
     ]
    },
    "9ae636df60ae4e9896b44fef77ed3ecf": {
     "views": [
      {
       "cell_index": 8
      }
     ]
    },
    "9c596d2912644b99867ad8a2c91359d8": {
     "views": [
      {
       "cell_index": 8
      }
     ]
    },
    "9d43e79078c6463f9dcfb074a04ce836": {
     "views": [
      {
       "cell_index": 8
      }
     ]
    },
    "9efe5aad06b44159b852f3b913aacb9b": {
     "views": [
      {
       "cell_index": 8
      }
     ]
    },
    "a17d4a0c6ec240bc9993e1ea1c5f97f0": {
     "views": [
      {
       "cell_index": 7
      }
     ]
    },
    "a5908de717b949ae8a1f122484ece4ee": {
     "views": [
      {
       "cell_index": 6
      }
     ]
    },
    "a5fc7629fb554fd9981439e04484da30": {
     "views": [
      {
       "cell_index": 8
      }
     ]
    },
    "a73c1928c72b41b6a4cfdf92c77f10c3": {
     "views": [
      {
       "cell_index": 9
      }
     ]
    },
    "a97ff3626825437aa55489a0f0fe0800": {
     "views": [
      {
       "cell_index": 8
      }
     ]
    },
    "a9a869ade64445ed9d53121030ce7385": {
     "views": [
      {
       "cell_index": 6
      }
     ]
    },
    "aa376c205e7c4abea208389b16d26a97": {
     "views": [
      {
       "cell_index": 8
      }
     ]
    },
    "aa81341a3696497792c6796a089e3f97": {
     "views": [
      {
       "cell_index": 6
      }
     ]
    },
    "b2944f18af15449f8c0ba2128f360632": {
     "views": [
      {
       "cell_index": 8
      }
     ]
    },
    "b7bfbcbbad2f4f83bc29171f5c8b1824": {
     "views": [
      {
       "cell_index": 8
      }
     ]
    },
    "ba2924dfa1d043bfa9cc4bdcb02f1ba8": {
     "views": [
      {
       "cell_index": 8
      }
     ]
    },
    "baf88420a7e74485b537548705cb4cab": {
     "views": [
      {
       "cell_index": 8
      }
     ]
    },
    "bdd10d39331941a4b8e24e0b9a40593f": {
     "views": [
      {
       "cell_index": 8
      }
     ]
    },
    "bff09464b52c4895a927326685e8ba3b": {
     "views": [
      {
       "cell_index": 8
      }
     ]
    },
    "c5dc55c8d5fd46f5a270f178110b64ef": {
     "views": [
      {
       "cell_index": 8
      }
     ]
    },
    "cb59a8b06f3f4343b8e6c4d8b6f0143f": {
     "views": [
      {
       "cell_index": 8
      }
     ]
    },
    "d49f5c5ec5624a1ea3e32aec4106776c": {
     "views": [
      {
       "cell_index": 6
      }
     ]
    },
    "d54dee60cef24b5f90905fb955998525": {
     "views": [
      {
       "cell_index": 6
      }
     ]
    },
    "dbee1bf88975481e9612373093f47ee5": {
     "views": [
      {
       "cell_index": 6
      }
     ]
    },
    "e020b2271b8c47d898ec0ee007e0a937": {
     "views": [
      {
       "cell_index": 9
      }
     ]
    },
    "e49d0e4fd79e43e98e8e4169a4ab532e": {
     "views": [
      {
       "cell_index": 9
      }
     ]
    },
    "e53aa2942492476cad21f354894ae4f4": {
     "views": [
      {
       "cell_index": 8
      }
     ]
    },
    "ecf1fed6723340faa4ef2a260ecc55fb": {
     "views": [
      {
       "cell_index": 8
      }
     ]
    },
    "f4ac17754e0b443ea50c804521937bf2": {
     "views": [
      {
       "cell_index": 8
      }
     ]
    },
    "f4c03ddf464b4d1b90cc9dca3bcba97d": {
     "views": [
      {
       "cell_index": 8
      }
     ]
    },
    "f51e474e70664f42a36a201ba8885620": {
     "views": [
      {
       "cell_index": 8
      }
     ]
    },
    "f628795553734381b347bde8b52e4c99": {
     "views": [
      {
       "cell_index": 9
      }
     ]
    },
    "f6bb805515c64ab0b9403a3b4708fc61": {
     "views": [
      {
       "cell_index": 8
      }
     ]
    },
    "f6f04d0f7c094bf9ac1a88ed9d5bf3d8": {
     "views": [
      {
       "cell_index": 8
      }
     ]
    },
    "fc68ad9d04c44559b915a87e49e43de9": {
     "views": [
      {
       "cell_index": 6
      }
     ]
    },
    "fefe7cd0c8b14e5d893403f9a37f349e": {
     "views": [
      {
       "cell_index": 8
      }
     ]
    }
   },
   "version": "1.2.0"
  }
 },
 "nbformat": 4,
 "nbformat_minor": 1
}
